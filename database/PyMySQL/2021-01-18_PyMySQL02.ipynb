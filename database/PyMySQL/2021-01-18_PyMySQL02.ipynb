{
 "cells": [
  {
   "cell_type": "markdown",
   "metadata": {},
   "source": [
    "# PyMySQL\n",
    "---\n",
    "\n",
    "db 연결은 모듈별(서비스로 생각하면 메뉴별)로 연결코드를 넣는 것이 일반적이다.  \n"
   ]
  },
  {
   "cell_type": "code",
   "execution_count": 139,
   "metadata": {},
   "outputs": [],
   "source": [
    "import pymysql"
   ]
  },
  {
   "cell_type": "markdown",
   "metadata": {},
   "source": [
    "* host 인수값 : db서버의 ip주소나 도메인\n",
    "    * db 서버가 파이썬 작업 컴퓨터와 동일할 때 : localhost (내 컴퓨터 안에서 시스템(네트워크 상대를 찾을 것))\n",
    "    * 127.0.0.1 ip 주소 : loop back 주소 (호스트 자신을 가리키는 IP 주소)"
   ]
  },
  {
   "cell_type": "markdown",
   "metadata": {},
   "source": [
    "## 1. INSERT\n",
    "### 1) Cursor Object 가져오기"
   ]
  },
  {
   "cell_type": "code",
   "execution_count": 140,
   "metadata": {},
   "outputs": [],
   "source": [
    "db = pymysql.connect(host='127.0.0.1', port=3306, user='root', passwd='0000', db='ecommerce', charset='utf8')\n",
    "\n",
    "cursor = db.cursor()"
   ]
  },
  {
   "cell_type": "markdown",
   "metadata": {},
   "source": [
    "### 2) SQL 실행하기"
   ]
  },
  {
   "cell_type": "code",
   "execution_count": 141,
   "metadata": {},
   "outputs": [],
   "source": [
    "for idx in range(10):\n",
    "    product_code = 21576740 + idx + 1 # 제품코드는 변수로 생성\n",
    "    sql = '''\n",
    "    INSERT INTO product \n",
    "        VALUES('''+str(product_code)+''',\n",
    "        '스위트바니 여름신상 5900원~롱원피스티셔츠/긴팔/반팔', 23000, 6900, 70, 'F')\n",
    "        '''\n",
    "    #print(sql)\n",
    "    cursor.execute(sql)\n"
   ]
  },
  {
   "cell_type": "markdown",
   "metadata": {},
   "source": [
    "### 3) commit"
   ]
  },
  {
   "cell_type": "code",
   "execution_count": 142,
   "metadata": {},
   "outputs": [],
   "source": [
    "db.commit()"
   ]
  },
  {
   "cell_type": "markdown",
   "metadata": {},
   "source": [
    "### 4) close"
   ]
  },
  {
   "cell_type": "code",
   "execution_count": 143,
   "metadata": {},
   "outputs": [],
   "source": [
    "db.close()"
   ]
  },
  {
   "cell_type": "markdown",
   "metadata": {},
   "source": [
    "## 2. SELECT\n",
    "* 데이터 조회(SELECT)\n",
    "1. Cursor Object 가져오기 \n",
    "2. SQL 실행하기\n",
    "3. mysql 서버로부터 데이터 가져오기 : `fetch` 메서드 사용\n",
    "    * `fetchall()` : Fetch all the rows\n",
    "    * `fetchmany(size=None)` : Fetch several rows\n",
    "    * `fetchone()` : Fetch the next row\n",
    "        : 레코드 한개를 반환 - 현재 커서위치에서 다음 레코드로 내려가서 반환\n",
    "    \n",
    "    \n",
    "### 1) Cursor object 가져오기"
   ]
  },
  {
   "cell_type": "code",
   "execution_count": 144,
   "metadata": {},
   "outputs": [],
   "source": [
    "db = pymysql.connect(host='127.0.0.1', port=3306, user='root', passwd='0000', db='ecommerce', charset='utf8')\n",
    "\n",
    "cursor = db.cursor()"
   ]
  },
  {
   "cell_type": "markdown",
   "metadata": {},
   "source": [
    "### 2) SQL 실행"
   ]
  },
  {
   "cell_type": "code",
   "execution_count": 145,
   "metadata": {},
   "outputs": [
    {
     "data": {
      "text/plain": [
       "10"
      ]
     },
     "execution_count": 145,
     "metadata": {},
     "output_type": "execute_result"
    }
   ],
   "source": [
    "sql = 'SELECT * FROM product'\n",
    "\n",
    "cursor.execute(sql)\n"
   ]
  },
  {
   "cell_type": "markdown",
   "metadata": {},
   "source": [
    "* product 테이블의 모든 레코드가 table 형태로 반환된다.\n",
    "    * 반환되는 시점에 커서는 컬럼명을 point하고 있음."
   ]
  },
  {
   "cell_type": "markdown",
   "metadata": {},
   "source": [
    "### 3) mysql 서버로부터 데이터 가져오기\n",
    "\n",
    "#### 3-1) `fetchone()`\n",
    "* 커서를 아래 레코드로 이동한 후에 레코드 하나를 반환한다.\n"
   ]
  },
  {
   "cell_type": "code",
   "execution_count": 146,
   "metadata": {},
   "outputs": [
    {
     "name": "stdout",
     "output_type": "stream",
     "text": [
      "('21576741', '스위트바니 여름신상 5900원~롱원피스티셔츠/긴팔/반팔', 23000, 6900, 70, 'F')\n",
      "('21576742', '스위트바니 여름신상 5900원~롱원피스티셔츠/긴팔/반팔', 23000, 6900, 70, 'F')\n"
     ]
    }
   ],
   "source": [
    "\n",
    "result = cursor.fetchone()\n",
    "print(result)\n",
    "result = cursor.fetchone()\n",
    "print(result)"
   ]
  },
  {
   "cell_type": "code",
   "execution_count": 147,
   "metadata": {},
   "outputs": [
    {
     "name": "stdout",
     "output_type": "stream",
     "text": [
      "(('21576743', '스위트바니 여름신상 5900원~롱원피스티셔츠/긴팔/반팔', 23000, 6900, 70, 'F'), ('21576744', '스위트바니 여름신상 5900원~롱원피스티셔츠/긴팔/반팔', 23000, 6900, 70, 'F'), ('21576745', '스위트바니 여름신상 5900원~롱원피스티셔츠/긴팔/반팔', 23000, 6900, 70, 'F'), ('21576746', '스위트바니 여름신상 5900원~롱원피스티셔츠/긴팔/반팔', 23000, 6900, 70, 'F'), ('21576747', '스위트바니 여름신상 5900원~롱원피스티셔츠/긴팔/반팔', 23000, 6900, 70, 'F'), ('21576748', '스위트바니 여름신상 5900원~롱원피스티셔츠/긴팔/반팔', 23000, 6900, 70, 'F'), ('21576749', '스위트바니 여름신상 5900원~롱원피스티셔츠/긴팔/반팔', 23000, 6900, 70, 'F'), ('21576750', '스위트바니 여름신상 5900원~롱원피스티셔츠/긴팔/반팔', 23000, 6900, 70, 'F'))\n"
     ]
    }
   ],
   "source": [
    "result = cursor.fetchall()\n",
    "print(result)\n",
    "\n"
   ]
  },
  {
   "cell_type": "code",
   "execution_count": 148,
   "metadata": {},
   "outputs": [
    {
     "name": "stdout",
     "output_type": "stream",
     "text": [
      "()\n"
     ]
    }
   ],
   "source": [
    "result = cursor.fetchmany()\n",
    "print(result)"
   ]
  },
  {
   "cell_type": "markdown",
   "metadata": {},
   "source": [
    "### 4) close"
   ]
  },
  {
   "cell_type": "code",
   "execution_count": 149,
   "metadata": {},
   "outputs": [],
   "source": [
    "db.close()"
   ]
  },
  {
   "cell_type": "markdown",
   "metadata": {},
   "source": [
    "## 3.UPDATE\n",
    "\n",
    "* 데이터 수정(UPDATE)\n",
    "    1. Cursor Object 가져오기\n",
    "    2. SQL 실행하기\n",
    "    3. mysql 서버에 확정 반영하기"
   ]
  },
  {
   "cell_type": "markdown",
   "metadata": {},
   "source": [
    "### 1) Cursor object 가져오기\n"
   ]
  },
  {
   "cell_type": "code",
   "execution_count": 150,
   "metadata": {},
   "outputs": [],
   "source": [
    "# 접속하기\n",
    "db = pymysql.connect(host='127.0.0.1', port=3306, user='root', passwd='0000', db='ecommerce', charset='utf8')\n",
    "\n",
    "ecommerce = db.cursor()"
   ]
  },
  {
   "cell_type": "markdown",
   "metadata": {},
   "source": [
    "### 2) SQL 실행하기\n"
   ]
  },
  {
   "cell_type": "code",
   "execution_count": 151,
   "metadata": {},
   "outputs": [
    {
     "data": {
      "text/plain": [
       "1"
      ]
     },
     "execution_count": 151,
     "metadata": {},
     "output_type": "execute_result"
    }
   ],
   "source": [
    "SQL = '''\n",
    "UPDATE product\n",
    "SET title = '달리샵린넨원피스 뷔스티에 썸머 가디건 코디전',\n",
    "ori_price = 33000,\n",
    "discount_price = 9900,\n",
    "discount_percent = 70\n",
    "WHERE PRODUCT_CODE = '21576741'\n",
    "'''\n",
    "\n",
    "ecommerce.execute(SQL)"
   ]
  },
  {
   "cell_type": "markdown",
   "metadata": {},
   "source": [
    "### 3) commit"
   ]
  },
  {
   "cell_type": "code",
   "execution_count": 152,
   "metadata": {},
   "outputs": [],
   "source": [
    "db.commit()"
   ]
  },
  {
   "cell_type": "markdown",
   "metadata": {},
   "source": [
    "### 4) close"
   ]
  },
  {
   "cell_type": "code",
   "execution_count": 153,
   "metadata": {},
   "outputs": [],
   "source": [
    "db.close()"
   ]
  },
  {
   "cell_type": "markdown",
   "metadata": {},
   "source": [
    "## 4. DELETE\n",
    "* 데이터 삭제(DELETE)\n",
    "    * Cursor Object 가져오기\n",
    "    * SQL 실행하기\n",
    "    * 실행 mysql 서버에 확정 반영하기\n",
    "    \n",
    "    \n",
    "### 1) Cursor object 가져오기"
   ]
  },
  {
   "cell_type": "code",
   "execution_count": 154,
   "metadata": {},
   "outputs": [],
   "source": [
    "db = pymysql.connect(host='127.0.0.1', port=3306, user='root', passwd='0000', db='ecommerce', charset='utf8')\n",
    "\n",
    "ecommerce = db.cursor()"
   ]
  },
  {
   "cell_type": "markdown",
   "metadata": {},
   "source": [
    "### 2) SQL 실행하기"
   ]
  },
  {
   "cell_type": "code",
   "execution_count": 155,
   "metadata": {},
   "outputs": [
    {
     "data": {
      "text/plain": [
       "1"
      ]
     },
     "execution_count": 155,
     "metadata": {},
     "output_type": "execute_result"
    }
   ],
   "source": [
    "SQL = '''\n",
    "    DELETE FROM product\n",
    "    WHERE product_code = '21576742'\n",
    "'''\n",
    "\n",
    "ecommerce.execute(SQL)"
   ]
  },
  {
   "cell_type": "markdown",
   "metadata": {},
   "source": [
    "### 3) commit\n"
   ]
  },
  {
   "cell_type": "code",
   "execution_count": 156,
   "metadata": {},
   "outputs": [],
   "source": [
    "db.commit()"
   ]
  },
  {
   "cell_type": "markdown",
   "metadata": {},
   "source": [
    "### 4) close"
   ]
  },
  {
   "cell_type": "code",
   "execution_count": 157,
   "metadata": {},
   "outputs": [],
   "source": [
    "db.close()"
   ]
  },
  {
   "cell_type": "markdown",
   "metadata": {},
   "source": [
    "## - 연습문제\n",
    "\n",
    "[웹페이지](http://www.enuri.com/list.jsp?cate=070701)에서 1위 ~ 10위까지 데이터 입력하기  \n",
    "  \n",
    "테이블 명 : best  \n",
    "- id는 자동증가\n",
    "- name은 코어 이름\n",
    "- model_num 은 코어 모델 번호\n",
    "- model_type은 코드명(카비레이크, 스카이레이크)\n",
    "  \n",
    "EX. 코어 i7 7700 카비레이크  \n",
    "name은 i7, model_num은 7700, model_type은 카비레이크"
   ]
  },
  {
   "cell_type": "markdown",
   "metadata": {},
   "source": [
    "### 1) 테이블 만들기"
   ]
  },
  {
   "cell_type": "code",
   "execution_count": 164,
   "metadata": {},
   "outputs": [],
   "source": [
    "db = pymysql.connect(host='127.0.0.1', port=3306, user='root', passwd='0000', db='ecommerce', charset='utf8')\n",
    "\n",
    "ecommerce = db.cursor()"
   ]
  },
  {
   "cell_type": "code",
   "execution_count": 167,
   "metadata": {},
   "outputs": [
    {
     "data": {
      "text/plain": [
       "0"
      ]
     },
     "execution_count": 167,
     "metadata": {},
     "output_type": "execute_result"
    }
   ],
   "source": [
    "SQL = '''\n",
    "CREATE TABLE best(\n",
    "    id int(10) NOT NULL AUTO_INCREMENT PRIMARY KEY,\n",
    "    name VARCHAR(20) NOT NULL,\n",
    "    model_num varchar(20),\n",
    "    model_type VARCHAR(50))\n",
    "'''\n",
    "ecommerce.execute('DROP TABLE best;')\n",
    "ecommerce.execute(SQL)\n"
   ]
  },
  {
   "cell_type": "code",
   "execution_count": 168,
   "metadata": {},
   "outputs": [],
   "source": [
    "db.commit()"
   ]
  },
  {
   "cell_type": "code",
   "execution_count": 169,
   "metadata": {},
   "outputs": [],
   "source": [
    "db.close()"
   ]
  },
  {
   "cell_type": "markdown",
   "metadata": {},
   "source": [
    "### 2) 데이터 삽입하기"
   ]
  },
  {
   "cell_type": "code",
   "execution_count": 170,
   "metadata": {},
   "outputs": [],
   "source": [
    "db = pymysql.connect(host='127.0.0.1', port=3306, user='root', passwd='0000', db='ecommerce', charset='utf8')\n",
    "\n",
    "ecommerce = db.cursor()"
   ]
  },
  {
   "cell_type": "code",
   "execution_count": 171,
   "metadata": {},
   "outputs": [],
   "source": [
    "# SQL = '''\n",
    "#     INSERT INTO best(name, model_num, model_type) VALUES ('i5', '10400', '코멧레이크S');\n",
    "# '''\n",
    "\n",
    "ecommerce.execute(SQL)\n",
    "\n",
    "\n",
    "# # 아래와 같이 여러 개의 구문을 한번에 실행하는 것은 불가함.(execute())\n",
    "# SQL = '''\n",
    "#     INSERT INTO best(name, model_num, model_type) VALUES ('i7', '10700', '코멧레이크S');\n",
    "#     INSERT INTO best(name, model_num, model_type) VALUES ('i5', '10400F', '코멧레이크S');\n",
    "#     INSERT INTO best(name, model_num, model_type) VALUES ('i9', '10900K', '코멧레이크S');\n",
    "#     INSERT INTO best(name, model_num, model_type) VALUES ('i3', '10100', '코멧레이크S');\n",
    "#     INSERT INTO best(name, model_num, model_type) VALUES ('인텔셀러론', 'G4900', '커피레이크');\n",
    "#     INSERT INTO best(name, model_num, model_type) VALUES ('i5', '9400F', '커피레이크');\n",
    "#     INSERT INTO best(name, model_num, model_type) VALUES ('i3', '10100F', '코멧레이크S');\n",
    "#     INSERT INTO best(name, model_num, model_type) VALUES ('i7', '10700K', '코멧레이크S');\n",
    "#     INSERT INTO best(name, model_num, model_type) VALUES ('i7', '10700KF', '코멧레이크S');\n",
    "\n",
    "# '''\n",
    "\n",
    "\n",
    "db.commit()\n",
    "\n",
    "db.close()"
   ]
  },
  {
   "cell_type": "markdown",
   "metadata": {},
   "source": [
    "* 여러 개의 INSERT 문을 한번에 실행하는 방법\n",
    "    * `executemany(query, values)`\n",
    "        * [documenatation](https://dev.mysql.com/doc/connector-python/en/connector-python-api-mysqlcursor-executemany.html)\n",
    "        * `query` : sql 문장을 입력 값은 포맷문자를 사용해서 미정으로 처리\n",
    "        * `values` : query에서 미정된 값을 튜플형태로 구성, 값 튜플이 여러개면 리스트안에 튜플을 나열함."
   ]
  },
  {
   "cell_type": "code",
   "execution_count": 172,
   "metadata": {},
   "outputs": [],
   "source": [
    "db = pymysql.connect(host='127.0.0.1', port=3306, user='root', passwd='0000', db='ecommerce', charset='utf8')\n",
    "\n",
    "ecommerce = db.cursor()\n",
    "\n",
    "query =  ''' INSERT INTO best(name, model_num, model_type) VALUES (%s, %s, %s); '''\n",
    "\n",
    "values = [\n",
    "    ('i7', '10700', '코멧레이크S'),\n",
    "    ('i5', '10400F', '코멧레이크S'),\n",
    "    ('i9', '10900K', '코멧레이크S'),\n",
    "    ('i3', '10100', '코멧레이크S'),\n",
    "    ('인텔셀러론', 'G4900', '커피레이크'),\n",
    "    ('i5', '9400F', '커피레이크'),\n",
    "    ('i3', '10100F', '코멧레이크S'),\n",
    "    ('i7', '10700K', '코멧레이크S'),\n",
    "    ('i7', '10700KF', '코멧레이크S')\n",
    "]\n",
    "\n",
    "ecommerce.executemany(query, values)\n",
    "\n",
    "db.commit()\n",
    "\n",
    "db.close()"
   ]
  }
 ],
 "metadata": {
  "kernelspec": {
   "display_name": "Python 3",
   "language": "python",
   "name": "python3"
  },
  "language_info": {
   "codemirror_mode": {
    "name": "ipython",
    "version": 3
   },
   "file_extension": ".py",
   "mimetype": "text/x-python",
   "name": "python",
   "nbconvert_exporter": "python",
   "pygments_lexer": "ipython3",
   "version": "3.8.5"
  },
  "toc": {
   "base_numbering": 1,
   "nav_menu": {},
   "number_sections": false,
   "sideBar": true,
   "skip_h1_title": false,
   "title_cell": "Table of Contents",
   "title_sidebar": "Contents",
   "toc_cell": false,
   "toc_position": {
    "height": "calc(100% - 180px)",
    "left": "10px",
    "top": "150px",
    "width": "270px"
   },
   "toc_section_display": true,
   "toc_window_display": true
  }
 },
 "nbformat": 4,
 "nbformat_minor": 4
}
