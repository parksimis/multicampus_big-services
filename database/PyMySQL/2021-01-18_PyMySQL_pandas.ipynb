{
 "cells": [
  {
   "cell_type": "markdown",
   "metadata": {},
   "source": [
    "# pandas와 PyMySQL\n",
    "---\n",
    "\n",
    "## 1. `read_sql()`\n",
    "\n",
    "* pandas 라이브러리 함수로 접속된 dbms를 통해 sql 결과를 바로 읽어온다.\n",
    "* [documentation](https://pandas.pydata.org/pandas-docs/stable/reference/api/pandas.read_sql.html)\n",
    "\n",
    "\n",
    "### 0) 필요 라이브러리 import\n"
   ]
  },
  {
   "cell_type": "code",
   "execution_count": 1,
   "metadata": {},
   "outputs": [],
   "source": [
    "# 필요 라이브러리 import\n",
    "import pymysql\n",
    "import pandas as pd"
   ]
  },
  {
   "cell_type": "markdown",
   "metadata": {},
   "source": [
    "### 1) db 연결"
   ]
  },
  {
   "cell_type": "code",
   "execution_count": 2,
   "metadata": {},
   "outputs": [],
   "source": [
    "host_name = '127.0.0.1'\n",
    "host_port = 3306\n",
    "username = 'root'\n",
    "password = '0000'\n",
    "database_name = '판매'"
   ]
  },
  {
   "cell_type": "code",
   "execution_count": 3,
   "metadata": {},
   "outputs": [],
   "source": [
    "db = pymysql.connect(\n",
    "    host = host_name,\n",
    "    port = host_port,\n",
    "    user = username,\n",
    "    passwd = password,\n",
    "    db=database_name,\n",
    "    charset='utf8'\n",
    ")"
   ]
  },
  {
   "cell_type": "markdown",
   "metadata": {},
   "source": [
    "### 2) `pandas.read_sql()` 사용\n",
    "\n",
    "* `pandas.read_sql(query, 연결된 db connection 객체)`\n",
    "    * DBMS에서 반환되는 결과를 데이터프레임으로 반환\n",
    "\n",
    "#### - TABLE 목록 출력"
   ]
  },
  {
   "cell_type": "code",
   "execution_count": 4,
   "metadata": {},
   "outputs": [],
   "source": [
    "sql = \"SHOW TABLES;\" # 해당 db에 존재하는 TABLE 목록을 출력하는 쿼리문"
   ]
  },
  {
   "cell_type": "code",
   "execution_count": 5,
   "metadata": {},
   "outputs": [],
   "source": [
    "df = pd.read_sql(sql, db)\n"
   ]
  },
  {
   "cell_type": "code",
   "execution_count": 6,
   "metadata": {},
   "outputs": [
    {
     "data": {
      "text/html": [
       "<div>\n",
       "<style scoped>\n",
       "    .dataframe tbody tr th:only-of-type {\n",
       "        vertical-align: middle;\n",
       "    }\n",
       "\n",
       "    .dataframe tbody tr th {\n",
       "        vertical-align: top;\n",
       "    }\n",
       "\n",
       "    .dataframe thead th {\n",
       "        text-align: right;\n",
       "    }\n",
       "</style>\n",
       "<table border=\"1\" class=\"dataframe\">\n",
       "  <thead>\n",
       "    <tr style=\"text-align: right;\">\n",
       "      <th></th>\n",
       "      <th>Tables_in_판매</th>\n",
       "    </tr>\n",
       "  </thead>\n",
       "  <tbody>\n",
       "    <tr>\n",
       "      <th>0</th>\n",
       "      <td>고객</td>\n",
       "    </tr>\n",
       "    <tr>\n",
       "      <th>1</th>\n",
       "      <td>제품</td>\n",
       "    </tr>\n",
       "    <tr>\n",
       "      <th>2</th>\n",
       "      <td>주문</td>\n",
       "    </tr>\n",
       "  </tbody>\n",
       "</table>\n",
       "</div>"
      ],
      "text/plain": [
       "  Tables_in_판매\n",
       "0           고객\n",
       "1           제품\n",
       "2           주문"
      ]
     },
     "metadata": {},
     "output_type": "display_data"
    },
    {
     "data": {
      "text/plain": [
       "pandas.core.frame.DataFrame"
      ]
     },
     "execution_count": 6,
     "metadata": {},
     "output_type": "execute_result"
    }
   ],
   "source": [
    "display(df)\n",
    "type(df)"
   ]
  },
  {
   "cell_type": "markdown",
   "metadata": {},
   "source": [
    "#### - SELECT 문 사용"
   ]
  },
  {
   "cell_type": "code",
   "execution_count": 7,
   "metadata": {},
   "outputs": [
    {
     "data": {
      "text/html": [
       "<div>\n",
       "<style scoped>\n",
       "    .dataframe tbody tr th:only-of-type {\n",
       "        vertical-align: middle;\n",
       "    }\n",
       "\n",
       "    .dataframe tbody tr th {\n",
       "        vertical-align: top;\n",
       "    }\n",
       "\n",
       "    .dataframe thead th {\n",
       "        text-align: right;\n",
       "    }\n",
       "</style>\n",
       "<table border=\"1\" class=\"dataframe\">\n",
       "  <thead>\n",
       "    <tr style=\"text-align: right;\">\n",
       "      <th></th>\n",
       "      <th>고객아이디</th>\n",
       "      <th>고객이름</th>\n",
       "      <th>나이</th>\n",
       "      <th>등급</th>\n",
       "      <th>직업</th>\n",
       "      <th>적립금</th>\n",
       "    </tr>\n",
       "  </thead>\n",
       "  <tbody>\n",
       "    <tr>\n",
       "      <th>0</th>\n",
       "      <td>apple</td>\n",
       "      <td>정소화</td>\n",
       "      <td>20.0</td>\n",
       "      <td>gold</td>\n",
       "      <td>학생</td>\n",
       "      <td>1000</td>\n",
       "    </tr>\n",
       "    <tr>\n",
       "      <th>1</th>\n",
       "      <td>banana</td>\n",
       "      <td>김선우</td>\n",
       "      <td>25.0</td>\n",
       "      <td>vip</td>\n",
       "      <td>간호사</td>\n",
       "      <td>2500</td>\n",
       "    </tr>\n",
       "    <tr>\n",
       "      <th>2</th>\n",
       "      <td>carrot</td>\n",
       "      <td>고명석</td>\n",
       "      <td>28.0</td>\n",
       "      <td>gold</td>\n",
       "      <td>교사</td>\n",
       "      <td>4500</td>\n",
       "    </tr>\n",
       "    <tr>\n",
       "      <th>3</th>\n",
       "      <td>melon</td>\n",
       "      <td>성원용</td>\n",
       "      <td>35.0</td>\n",
       "      <td>gold</td>\n",
       "      <td>회사원</td>\n",
       "      <td>5000</td>\n",
       "    </tr>\n",
       "    <tr>\n",
       "      <th>4</th>\n",
       "      <td>orange</td>\n",
       "      <td>김용욱</td>\n",
       "      <td>22.0</td>\n",
       "      <td>silver</td>\n",
       "      <td>학생</td>\n",
       "      <td>0</td>\n",
       "    </tr>\n",
       "    <tr>\n",
       "      <th>5</th>\n",
       "      <td>peach</td>\n",
       "      <td>오형준</td>\n",
       "      <td>NaN</td>\n",
       "      <td>silver</td>\n",
       "      <td>의사</td>\n",
       "      <td>300</td>\n",
       "    </tr>\n",
       "    <tr>\n",
       "      <th>6</th>\n",
       "      <td>pear</td>\n",
       "      <td>채광주</td>\n",
       "      <td>31.0</td>\n",
       "      <td>silver</td>\n",
       "      <td>회사원</td>\n",
       "      <td>500</td>\n",
       "    </tr>\n",
       "    <tr>\n",
       "      <th>7</th>\n",
       "      <td>strawberry</td>\n",
       "      <td>최유경</td>\n",
       "      <td>30.0</td>\n",
       "      <td>vip</td>\n",
       "      <td>공무원</td>\n",
       "      <td>100</td>\n",
       "    </tr>\n",
       "    <tr>\n",
       "      <th>8</th>\n",
       "      <td>tomato</td>\n",
       "      <td>정은심</td>\n",
       "      <td>36.0</td>\n",
       "      <td>gold</td>\n",
       "      <td>None</td>\n",
       "      <td>100</td>\n",
       "    </tr>\n",
       "  </tbody>\n",
       "</table>\n",
       "</div>"
      ],
      "text/plain": [
       "        고객아이디 고객이름    나이      등급    직업   적립금\n",
       "0       apple  정소화  20.0    gold    학생  1000\n",
       "1      banana  김선우  25.0     vip   간호사  2500\n",
       "2      carrot  고명석  28.0    gold    교사  4500\n",
       "3       melon  성원용  35.0    gold   회사원  5000\n",
       "4      orange  김용욱  22.0  silver    학생     0\n",
       "5       peach  오형준   NaN  silver    의사   300\n",
       "6        pear  채광주  31.0  silver   회사원   500\n",
       "7  strawberry  최유경  30.0     vip   공무원   100\n",
       "8      tomato  정은심  36.0    gold  None   100"
      ]
     },
     "execution_count": 7,
     "metadata": {},
     "output_type": "execute_result"
    }
   ],
   "source": [
    "sql = \"SELECT * FROM 고객\"\n",
    "\n",
    "df = pd.read_sql(sql, db)\n",
    "\n",
    "df"
   ]
  },
  {
   "cell_type": "markdown",
   "metadata": {},
   "source": [
    "#### - csv로 내보내기\n",
    "* `pandas.to_csv()`\n",
    "    * [documentation](https://pandas.pydata.org/pandas-docs/stable/reference/api/pandas.DataFrame.to_csv.html)"
   ]
  },
  {
   "cell_type": "code",
   "execution_count": 9,
   "metadata": {},
   "outputs": [],
   "source": [
    "df.to_csv('고객.csv', sep=',', index=False, encoding='utf-8')"
   ]
  },
  {
   "cell_type": "markdown",
   "metadata": {},
   "source": [
    "### 3) close()"
   ]
  },
  {
   "cell_type": "code",
   "execution_count": 10,
   "metadata": {},
   "outputs": [],
   "source": [
    "db.close()"
   ]
  }
 ],
 "metadata": {
  "kernelspec": {
   "display_name": "Python 3",
   "language": "python",
   "name": "python3"
  },
  "language_info": {
   "codemirror_mode": {
    "name": "ipython",
    "version": 3
   },
   "file_extension": ".py",
   "mimetype": "text/x-python",
   "name": "python",
   "nbconvert_exporter": "python",
   "pygments_lexer": "ipython3",
   "version": "3.8.5"
  },
  "toc": {
   "base_numbering": 1,
   "nav_menu": {},
   "number_sections": false,
   "sideBar": true,
   "skip_h1_title": false,
   "title_cell": "Table of Contents",
   "title_sidebar": "Contents",
   "toc_cell": false,
   "toc_position": {
    "height": "calc(100% - 180px)",
    "left": "10px",
    "top": "150px",
    "width": "227px"
   },
   "toc_section_display": true,
   "toc_window_display": true
  }
 },
 "nbformat": 4,
 "nbformat_minor": 4
}
