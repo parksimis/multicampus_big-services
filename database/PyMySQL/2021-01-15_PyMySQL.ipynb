{
 "cells": [
  {
   "cell_type": "markdown",
   "metadata": {},
   "source": [
    "# 응용프로그램에서 DB 연결 \n",
    "---\n",
    "## `PyMySQL`\n",
    "* [URL](https://pypi.org/project/PyMySQL/#documentation)\n",
    "* 파이썬에서 mysql을 사용할 수 있는 모듈 (내장되어 있지 않기 때문에 설치를 해야함)\n",
    "\n",
    "### 라이브러리 소개 및 설치\n",
    "* mysql을 python에서 사용할 수 있는 라이브러리 \n",
    "    * (pymysql 라이브러리 이외에도 MySQLdb(Mysql-python), MySQL connector 등 다양한 라이브러리 존재)\n",
    "* 이 중에서 가장 설치가 가장 쉬운 라이브러리\n",
    "* 설치\n",
    "    * `pip install PyMySQL`\n",
    "\n",
    "* 일반적으로 mysql 핸들링 코드 작성 순서\n",
    "    1. PymySQL 모듈을 import : `import pymysql`\n",
    "    2. MySQL - MariaDB에 연결 : `PymySQL.connect()`\n",
    "        - 호스트명, 포트, 사용자, 암호, 접속할 DB 등을 인수로 전달\n",
    "    3. 접속 성공 시 connection 객체(일종의 로그인 증명서)가 반환이 되면, 쿼리를 실행할 수 있도록 Cursor 객체를 가져옴.\n",
    "        - `cursor()` 호출\n",
    "    4. Cursor 객체의 `excute()` 메서드를 사용해 query 문장을 DB 서버에게 전송\n",
    "    5. `SELECT`문 같이 데이터가 반환되는 쿼리에 대해서는\n",
    "        - Cursor 객체의 `fetchall()`, `fetchone()`, `fetchmany()` 등의 메서드를 사용해 서버로부터 가져온 데이터를 코드에서 활용\n",
    "    6. 삽입, 삭제, 갱신하는 DML(Data Manipulation Language), `INSERT`, `UPDATE`, `DELETE` 문은 실행 후에 Connection 객체의 `commit()` 메서드를 사용해서 데이터를 확정한다.\n",
    "    7. 사용이 끝나면 Connection 객체의 `close()` 메서드를 사용해서 DB 연결을 끊는다.\n",
    "\n"
   ]
  },
  {
   "cell_type": "markdown",
   "metadata": {},
   "source": [
    "    \n",
    "# 테이블 생성 Flow\n",
    "\n",
    "* 파이썬에서 MariaDB와 연동해 테이블을 생성하는 전체 과정을 간단히 연습\n",
    "---\n",
    "\n",
    "## 0. `PyMySQL` 설치\n",
    "\n",
    "- ANACONDA Prompt에서 `pip instal PyMySQL` 명령으로 설치 가능\n",
    "- 주피터 Code 셀에서 `!pip install PyMySQL` 명령으로 설치 가능\n"
   ]
  },
  {
   "cell_type": "code",
   "execution_count": 30,
   "metadata": {},
   "outputs": [],
   "source": [
    "#!pip install PyMySQL"
   ]
  },
  {
   "cell_type": "markdown",
   "metadata": {},
   "source": [
    "## 1. `PyMySQL` import\n",
    "\n",
    "* pymysql 라이브러리 import"
   ]
  },
  {
   "cell_type": "code",
   "execution_count": 31,
   "metadata": {},
   "outputs": [],
   "source": [
    "# 필요 라이브러리 import\n",
    "import pymysql"
   ]
  },
  {
   "cell_type": "markdown",
   "metadata": {},
   "source": [
    "### 2. MySQL - MariaDB 연결\n",
    "#### `pymysql.connect()`\n",
    "* [documentation](https://pymysql.readthedocs.io/en/latest/modules/connections.html)\n",
    "* 호스트명, 포트, 사용자, 암호, 접속할 DB 등을 parameter로 지정\n",
    "    * parameter\n",
    "        * `host` : 접속할 mysql server 주소\n",
    "        * `port` : 접속할 mysql server의 포트 번호\n",
    "        * `user` : mysql ID\n",
    "        * `passwd` : mysql ID 암호\n",
    "        * `db` : 접속할 데이터베이스\n",
    "        * `charset='utf8'` : mysql에서 SELECT 하여 데이터를 가져올 때 한글이 깨질 수 있으므로 연결 설정에 넣어줌\n",
    "        "
   ]
  },
  {
   "cell_type": "code",
   "execution_count": 32,
   "metadata": {},
   "outputs": [],
   "source": [
    "db = pymysql.connect(host='localhost', port=3306, user='root', passwd='0000', db='ecommerce', charset='utf8')"
   ]
  },
  {
   "cell_type": "code",
   "execution_count": 33,
   "metadata": {},
   "outputs": [
    {
     "data": {
      "text/plain": [
       "<pymysql.connections.Connection at 0x2487a84f340>"
      ]
     },
     "execution_count": 33,
     "metadata": {},
     "output_type": "execute_result"
    }
   ],
   "source": [
    "db"
   ]
  },
  {
   "cell_type": "markdown",
   "metadata": {},
   "source": [
    "## 3. 쿼리 실행을 위한 Cursor 객체 가져오기\n",
    "### `객체명.cursor()`\n",
    "* cursor는 control structure of database(연결된 객체로 봐도 됨)\n"
   ]
  },
  {
   "cell_type": "code",
   "execution_count": 34,
   "metadata": {},
   "outputs": [
    {
     "data": {
      "text/plain": [
       "<pymysql.cursors.Cursor at 0x2487a84f2b0>"
      ]
     },
     "execution_count": 34,
     "metadata": {},
     "output_type": "execute_result"
    }
   ],
   "source": [
    "ecommerce = db.cursor()\n",
    "ecommerce"
   ]
  },
  {
   "cell_type": "markdown",
   "metadata": {},
   "source": [
    "## 4. 테이블 생성\n",
    "### 1) Cursor Object 가져오기 \n",
    "#### `Cursor객체명 = db.cursor()`\n",
    "* [documenatation](https://pymysql.readthedocs.io/en/latest/modules/cursors.html)"
   ]
  },
  {
   "cell_type": "markdown",
   "metadata": {},
   "source": [
    "### 2) SQL 실행하기\n",
    "\n",
    "#### `Cursor객체명.excute(SQL)`"
   ]
  },
  {
   "cell_type": "code",
   "execution_count": 35,
   "metadata": {},
   "outputs": [
    {
     "data": {
      "text/plain": [
       "0"
      ]
     },
     "execution_count": 35,
     "metadata": {},
     "output_type": "execute_result"
    }
   ],
   "source": [
    "# product TABLE 생성 SQL 구문 작성\n",
    "sql = \"\"\"\n",
    "    CREATE TABLE product (\n",
    "        PRODUCT_CODE VARCHAR(20) NOT NULL,\n",
    "        TITLE VARCHAR(200) NOT NULL,\n",
    "        ORI_PRICE INT,\n",
    "        DISCOUNT_PRICE INT,\n",
    "        DISCOUNT_PERCENT INT,\n",
    "        DELIVERY VARCHAR(2),\n",
    "        PRIMARY KEY(PRODUCT_CODE)\n",
    "    );\n",
    "\"\"\"\n",
    "\n",
    "# 쿼리 구문 실행\n",
    "ecommerce.execute(sql)"
   ]
  },
  {
   "cell_type": "markdown",
   "metadata": {},
   "source": [
    "### 3) 실행 mysql 서버에 확정 반영하기\n",
    "#### `db.commit()`"
   ]
  },
  {
   "cell_type": "code",
   "execution_count": 36,
   "metadata": {},
   "outputs": [],
   "source": [
    "# db 서버에 확정\n",
    "db.commit()"
   ]
  },
  {
   "cell_type": "markdown",
   "metadata": {},
   "source": [
    "## 5. DB 연결 해제\n",
    "### `Connection객체명.close()`"
   ]
  },
  {
   "cell_type": "code",
   "execution_count": 37,
   "metadata": {},
   "outputs": [],
   "source": [
    "# db 연결 해제\n",
    "db.close()"
   ]
  }
 ],
 "metadata": {
  "kernelspec": {
   "display_name": "Python 3",
   "language": "python",
   "name": "python3"
  },
  "language_info": {
   "codemirror_mode": {
    "name": "ipython",
    "version": 3
   },
   "file_extension": ".py",
   "mimetype": "text/x-python",
   "name": "python",
   "nbconvert_exporter": "python",
   "pygments_lexer": "ipython3",
   "version": "3.8.5"
  },
  "toc": {
   "base_numbering": 1,
   "nav_menu": {},
   "number_sections": false,
   "sideBar": true,
   "skip_h1_title": false,
   "title_cell": "Table of Contents",
   "title_sidebar": "Contents",
   "toc_cell": false,
   "toc_position": {
    "height": "calc(100% - 180px)",
    "left": "10px",
    "top": "150px",
    "width": "256px"
   },
   "toc_section_display": true,
   "toc_window_display": true
  }
 },
 "nbformat": 4,
 "nbformat_minor": 4
}
