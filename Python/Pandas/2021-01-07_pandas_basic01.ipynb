{
 "cells": [
  {
   "cell_type": "markdown",
   "metadata": {},
   "source": [
    "# Pandas_basic01\n",
    "\n",
    "## - 목차\n",
    "\n",
    "### - Pandas란?\n",
    "\n",
    "### - 시리즈\n",
    "* 시리즈 설명\n",
    "* 시리즈 만들기\n",
    "* 시리즈 인덱싱\n",
    "* 시리즈와 딕셔너리\n",
    "* 연습문제 1\n",
    "\n",
    "### - 데이터프레임\n",
    "* 데이터프레임 설명\n",
    "* 데이터프레임 만들기\n",
    "\n",
    "---"
   ]
  },
  {
   "cell_type": "markdown",
   "metadata": {},
   "source": [
    "## Pandas란?\n",
    "\n",
    "\n",
    "### Pandas 사용 목적\n",
    "* 서로 다른 여러 가지 유형의 데이터를 공통의 포맷으로 정리하는 것.\n",
    "* 데이터 프레임을 분석 실무에서 자주 사용한다.\n",
    "\n",
    "**사용하려면 import 해야 함**\n",
    "\n",
    "## Series(시리즈)\n",
    "* 데이터가 순차적으로 나열된 1차원 배열의 형태로 인덱스(index)와 데이터 값(value)이 일대일로 대응\n",
    "* 딕셔너리와 비슷한 구조 : {key : value}\n",
    "\n",
    "### 1. 시리즈의 인덱스\n",
    "* 데이터 값의 위치를 나타내는 이름표 (데이터 주소) 역할\n",
    "* 예로 'index2'라는 주소를 알고 있다면 'data2'라는 원소 데이터 값에 바로 접근 가능하다.\n"
   ]
  },
  {
   "cell_type": "code",
   "execution_count": 107,
   "metadata": {},
   "outputs": [],
   "source": [
    "# 필요한 package import\n",
    "\n",
    "import pandas as pd\n",
    "import numpy as np\n"
   ]
  },
  {
   "cell_type": "markdown",
   "metadata": {},
   "source": [
    "### 2. 시리즈 만들기\n",
    "* 시리즈 만들기 : ```Series()```함수 사용.\n",
    "* 리스트, 딕셔너리, 튜플 형태의 데이터를 구성 후 `Series()`를 이용\n",
    "* 인덱스는 0부터 시작하는 정수값으로 자동 지정된다.\n"
   ]
  },
  {
   "cell_type": "code",
   "execution_count": 108,
   "metadata": {},
   "outputs": [
    {
     "name": "stdout",
     "output_type": "stream",
     "text": [
      "0    1\n",
      "1    2\n",
      "2    3\n",
      "dtype: int64\n",
      "0    1\n",
      "1    2\n",
      "2    3\n",
      "dtype: int64\n",
      "0    1\n",
      "1    2\n",
      "2    3\n",
      "dtype: int64\n"
     ]
    },
    {
     "data": {
      "text/plain": [
       "0    1.0\n",
       "1    3.0\n",
       "2    5.0\n",
       "3    NaN\n",
       "4    6.0\n",
       "5    8.0\n",
       "dtype: float64"
      ]
     },
     "execution_count": 108,
     "metadata": {},
     "output_type": "execute_result"
    }
   ],
   "source": [
    "# 1. 리스트를 이용해서 시리즈 만들기\n",
    "series_list = pd.Series([1, 2, 3])\n",
    "print(series_list)\n",
    "\n",
    "# 2. 딕셔너리를 이용해 시리즈 만들기\n",
    "dic = {0 : 1, 1 : 2, 2: 3}\n",
    "s = pd.Series(dic)\n",
    "print(s)\n",
    "\n",
    "# 3. 튜플을 활용한 시리즈 만들기\n",
    "tup = (1, 2, 3)\n",
    "s = pd.Series(tup)\n",
    "print(s)\n",
    "\n",
    "# 4. range()를 활용한 시리즈 만들기\n",
    "pd.Series(range(10, 14))\n",
    "\n",
    "# 5.결측값을 포함해서 시리즈 만들기\n",
    "## numpy 패키지의 nan이라는 내부 변수는 결측값을 포현한다.\n",
    "s = pd.Series([1, 3, 5, np.nan, 6, 8])\n",
    "s"
   ]
  },
  {
   "cell_type": "markdown",
   "metadata": {},
   "source": [
    "* 시리즈는 인덱스를 지정할 수 있고, 따로 지정하지 않으면 0부터 시작하는 정수로 적용되어 만들어진다."
   ]
  },
  {
   "cell_type": "code",
   "execution_count": 109,
   "metadata": {},
   "outputs": [
    {
     "data": {
      "text/plain": [
       "서울    9904312\n",
       "부산    3448737\n",
       "인천    2890451\n",
       "대구    2466052\n",
       "dtype: int64"
      ]
     },
     "execution_count": 109,
     "metadata": {},
     "output_type": "execute_result"
    }
   ],
   "source": [
    "# 숫자 인덱스 지정\n",
    "s = pd.Series([10, 20, 30], index=[1, 2, 3])\n",
    "s\n",
    "\n",
    "# 문자 인덱스 지정 1\n",
    "s = pd.Series([95, 100, 88], index=['홍길동', '이몽룡', '성춘향'])\n",
    "s\n",
    "\n",
    "# 문자 인덱스 지정 2\n",
    "s = pd.Series([9904312, 3448737, 2890451, 2466052], index=['서울', '부산', '인천', '대구'])\n",
    "s"
   ]
  },
  {
   "cell_type": "markdown",
   "metadata": {},
   "source": [
    "* 시리즈의 인덱스 확인 \n",
    "    * : Series 클래스 안에 index라는 변수가 만들어져 있다. \n",
    "    * `index` 속성을 이용해서 관련 index 확인이 가능하다.\n",
    " \n",
    " \n",
    "* 시리즈 객체의 index 속성으로 확인이 가능하다. \n",
    "    * `객체명.index`\n",
    "  \n",
    "  \n",
    "* 시리즈의 값은 1차원 배열이고, values 속성으로 접근할 수 있다.\n",
    "    * `객체명.values`\n",
    "  \n"
   ]
  },
  {
   "cell_type": "code",
   "execution_count": 110,
   "metadata": {},
   "outputs": [
    {
     "name": "stdout",
     "output_type": "stream",
     "text": [
      "Index(['서울', '부산', '인천', '대구'], dtype='object')\n",
      "[9904312 3448737 2890451 2466052]\n"
     ]
    }
   ],
   "source": [
    "# 시리즈의 인덱스 확인\n",
    "print(s.index)\n",
    "\n",
    "# 시리즈의 value 확인\n",
    "print(s.values)"
   ]
  },
  {
   "cell_type": "markdown",
   "metadata": {},
   "source": [
    "* `name` 속성을 이용하여 시리즈 데이터에 이름을 붙일 수 있다.\n",
    "    * `객체명.name`\n",
    "  \n",
    "  \n",
    "* 시리즈 인덱스에도 이름을 붙일 수 있다.\n",
    "    * 객체.index.name = '인덱스 이름'\n"
   ]
  },
  {
   "cell_type": "code",
   "execution_count": 111,
   "metadata": {},
   "outputs": [
    {
     "name": "stdout",
     "output_type": "stream",
     "text": [
      "서울    9904312\n",
      "부산    3448737\n",
      "인천    2890451\n",
      "대구    2466052\n",
      "Name: 인구, dtype: int64\n",
      "---------------------\n",
      "도시\n",
      "서울    9904312\n",
      "부산    3448737\n",
      "인천    2890451\n",
      "대구    2466052\n",
      "Name: 인구, dtype: int64\n"
     ]
    }
   ],
   "source": [
    "# 시리즈에 이름 정의\n",
    "s.name = '인구'\n",
    "print(s)\n",
    "\n",
    "print('---------------------')\n",
    "# 시리즈 인덱스에 이름 정의\n",
    "s.index.name = '도시'\n",
    "print(s)"
   ]
  },
  {
   "cell_type": "markdown",
   "metadata": {},
   "source": [
    "### 3. 시리즈 인덱싱\n",
    "\n",
    "* 인덱싱(indexing) : 데이터에서 특정한 세부 데이터만 접근해서 값을 반환받는 것\n",
    "  \n",
    "#### - 시리즈 인덱스의 종류\n",
    "* 1) 정수형 위치 인덱스\n",
    "* 2) 인덱스 이름 또는 인덱스 라벨 문자형 인덱스  \n",
    "    * 인덱스를 별도로 정의하지 않으면 0부터 시작하는 default 정수형 위치 인덱스가 자동 지정된다.\n",
    "    * 시리즈는 순차적 의미를 갖고 있기 때문에, 라벨형 인덱스가 있어도 위치 인덱스 사용이 가능하다.  \n",
    "  \n",
    "  \n",
    "* 인덱싱 값을 하나가 아닌 여러 값으로 할 수도 있다. \n"
   ]
  },
  {
   "cell_type": "code",
   "execution_count": 112,
   "metadata": {},
   "outputs": [
    {
     "name": "stdout",
     "output_type": "stream",
     "text": [
      "정수형 인덱스 : 9904312\n",
      "라벨형 인덱스 : 9904312\n"
     ]
    }
   ],
   "source": [
    "# 1) 정수형 위치 인덱스를 사용한 인덱스\n",
    "\n",
    "print('정수형 인덱스 :', s[0])\n",
    "\n",
    "# 2) 라벨형 인덱스를 설정한 경우 라벨을 이용해서도 접근 가능\n",
    "print('라벨형 인덱스 :', s['서울'])"
   ]
  },
  {
   "cell_type": "markdown",
   "metadata": {},
   "source": [
    "* 리스트형 인덱싱을 하면 자료의 순서를 바꾸거나 특정한 자료만 선택할 수 있다.\n",
    "    * 리스트형으로 인덱싱했을 경우는 Series 형태로, 하나의 요소만 인덱싱 했을 때는 value를 반환한다."
   ]
  },
  {
   "cell_type": "code",
   "execution_count": 113,
   "metadata": {},
   "outputs": [
    {
     "name": "stdout",
     "output_type": "stream",
     "text": [
      "<class 'numpy.int64'>\n",
      "<class 'pandas.core.series.Series'>\n"
     ]
    },
    {
     "data": {
      "text/plain": [
       "도시\n",
       "서울    9904312\n",
       "대구    2466052\n",
       "부산    3448737\n",
       "Name: 인구, dtype: int64"
      ]
     },
     "execution_count": 113,
     "metadata": {},
     "output_type": "execute_result"
    }
   ],
   "source": [
    "# 하나의 요소 인덱싱을 했을 때 반환 결과의 type 확인\n",
    "print(type(s[0]))\n",
    "\n",
    "# 리스트형 인덱싱을 했을 때 반환 결과의 type 확인\n",
    "print(type(s[[0]]))\n",
    "\n",
    "# 인덱스 라벨을 사용하여 특정자료의 집합을 선택(순서 변경)\n",
    "s[['서울', '대구', '부산']]"
   ]
  },
  {
   "cell_type": "code",
   "execution_count": 114,
   "metadata": {},
   "outputs": [
    {
     "name": "stdout",
     "output_type": "stream",
     "text": [
      "도시\n",
      "서울    9904312\n",
      "대구    2466052\n",
      "부산    3448737\n",
      "Name: 인구, dtype: int64\n",
      "--------------\n",
      "도시\n",
      "부산    3448737\n",
      "인천    2890451\n",
      "Name: 인구, dtype: int64\n"
     ]
    },
    {
     "data": {
      "text/plain": [
       "도시\n",
       "부산    3448737\n",
       "인천    2890451\n",
       "대구    2466052\n",
       "Name: 인구, dtype: int64"
      ]
     },
     "execution_count": 114,
     "metadata": {},
     "output_type": "execute_result"
    }
   ],
   "source": [
    "# 여러 개의 인덱스로 인덱싱\n",
    "print(s[[0, 3, 1]])\n",
    "\n",
    "print('--------------')\n",
    "# 3) 슬라이싱을 이용한 인덱싱\n",
    "print(s[1:3])\n",
    "\n",
    "# 4) 인덱스 라벨을 사용한 슬라이싱\n",
    "s['부산':'대구']"
   ]
  },
  {
   "cell_type": "markdown",
   "metadata": {},
   "source": [
    "* 인덱스 label이 영문 문자열인 경우에는 마치 속성인것 처럼 `.`를 이용해 접근이 가능하다."
   ]
  },
  {
   "cell_type": "code",
   "execution_count": 115,
   "metadata": {},
   "outputs": [
    {
     "name": "stdout",
     "output_type": "stream",
     "text": [
      "a    0\n",
      "b    1\n",
      "c    2\n",
      "dtype: int64\n",
      "0\n"
     ]
    }
   ],
   "source": [
    "# 영문 인덱스를 가지는 Series 생성\n",
    "s_1 = pd.Series(range(3), index=['a', 'b', 'c'])\n",
    "print(s_1)\n",
    "\n",
    "print(s_1.a)"
   ]
  },
  {
   "cell_type": "markdown",
   "metadata": {},
   "source": [
    "#### 시리즈와 딕셔너리 자료형\n",
    "* 시리즈 객체는 라벨 값에 의해 인덱싱이 가능하므로, 실질적으로 라벨 값을 키(key)로 가지는 딕셔너리 자료형과 비슷하다고 볼 수 있다. \n",
    "* 따라서, 딕셔너리 자료형에서 제공하는 in 연산도 가능하고, `items()` method를 사용하면 for문을 통해 각 원소의 key와 value를 접근할 수도 있다."
   ]
  },
  {
   "cell_type": "code",
   "execution_count": 116,
   "metadata": {},
   "outputs": [
    {
     "name": "stdout",
     "output_type": "stream",
     "text": [
      "True\n",
      "False\n",
      "서울 9904312\n",
      "부산 3448737\n",
      "인천 2890451\n",
      "대구 2466052\n"
     ]
    }
   ],
   "source": [
    "# in 연산 활용\n",
    "print('서울' in s)\n",
    "print('대전' in s)\n",
    "\n",
    "# items를 활용해 key, value 접근\n",
    "for key, value in s.items():\n",
    "    print(key, value)"
   ]
  },
  {
   "cell_type": "markdown",
   "metadata": {},
   "source": [
    "#### 딕셔너리로 시리즈 만들기\n",
    "* 딕셔너리와 시리즈의 구조가 비슷하기 때문에, 딕셔너리를 시리즈로 변환하는 방법을 많이 사용한다.\n",
    "* `Series()`로 만들고 딕셔너리를 함수의 인자로 전달한다.\n",
    "    * 딕셔너리의 key는 시리즈의 인덱스에 대응되고, 딕셔너리의 value는 시리즈의 데이터 값으로 변환된다.\n",
    "    \n",
    "    \n",
    "* 딕셔너리의 원소는 순서를 가지지 않으므로, 만약 순서를 정하고 싶다면 인덱스를 리스트로 지정해야 한다.\n",
    "  \n",
    "\n"
   ]
  },
  {
   "cell_type": "code",
   "execution_count": 117,
   "metadata": {},
   "outputs": [
    {
     "name": "stdout",
     "output_type": "stream",
     "text": [
      "딕셔너리로 시리즈 만들기 1\n",
      "홍길동     95\n",
      "이몽룡    100\n",
      "성춘향     88\n",
      "dtype: int64\n",
      "딕셔너리로 시리즈 만들기 2\n",
      "서울    9904312\n",
      "부산    3448737\n",
      "인천    2890451\n",
      "대구    2466052\n",
      "dtype: int64\n",
      "두번째 원소 보기 :  부산    3448737\n",
      "dtype: int64\n",
      "딕셔너리로 시리즈 만들기 3\n",
      "부산    3448737\n",
      "서울    9904312\n",
      "대구    2466052\n",
      "인천    2890451\n",
      "dtype: int64\n",
      "두번째 원소 보기 :  서울    9904312\n",
      "dtype: int64\n"
     ]
    }
   ],
   "source": [
    "# 딕셔너리로 시리즈 만들기 1\n",
    "print('딕셔너리로 시리즈 만들기 1')\n",
    "scores = {'홍길동' : 95, '이몽룡' : 100, '성춘향' : 88}\n",
    "s = pd.Series(scores)\n",
    "print(s)\n",
    "\n",
    "\n",
    "# 딕셔너리로 시리즈 만들기 2 - 순서가 없는 Series\n",
    "print('딕셔너리로 시리즈 만들기 2')\n",
    "s2 = pd.Series({'서울' : 9904312, '부산' : 3448737, '인천' : 2890451, '대구' : 2466052})\n",
    "print(s2)\n",
    "print('두번째 원소 보기 : ', s2[[1]])\n",
    "\n",
    "# 딕셔너리로 시리즈 만들기 3 - 순서가 있게 만들기\n",
    "print('딕셔너리로 시리즈 만들기 3')\n",
    "s2 = pd.Series({'서울' : 9904312, '부산' : 3448737, '인천' : 2890451, '대구' : 2466052},\n",
    "              index=['부산', '서울', '대구', '인천'])\n",
    "print(s2)\n",
    "print('두번째 원소 보기 : ', s2[[1]])"
   ]
  },
  {
   "cell_type": "markdown",
   "metadata": {},
   "source": [
    "#### 시리즈 데이터의 갱신, 추가, 삭제\n",
    "\n",
    "* 딕셔너리 인덱싱을 이용하면 데이터를 갱신하거나 추가할 수 있다."
   ]
  },
  {
   "cell_type": "code",
   "execution_count": 118,
   "metadata": {},
   "outputs": [
    {
     "name": "stdout",
     "output_type": "stream",
     "text": [
      "데이터 갱신\n",
      "부산    1630000\n",
      "서울    9904312\n",
      "대구    2466052\n",
      "인천    2890451\n",
      "dtype: int64\n",
      "\n",
      "데이터 추가\n",
      "부산    1630000\n",
      "서울    9904312\n",
      "대구    2466052\n",
      "인천    2890451\n",
      "울산     900000\n",
      "dtype: int64\n",
      "\n",
      "데이터 삭제\n",
      "부산    1630000\n",
      "대구    2466052\n",
      "인천    2890451\n",
      "울산     900000\n",
      "dtype: int64\n"
     ]
    }
   ],
   "source": [
    "# 위의 s2 Series를 활용하여 데이터 갱신, 추가, 삭제 수행\n",
    "# 데이터 갱신\n",
    "print('데이터 갱신')\n",
    "s2['부산'] = 1630000\n",
    "print(s2)\n",
    "\n",
    "# 데이터 추가\n",
    "print('\\n데이터 추가')\n",
    "s2['울산'] = 900000\n",
    "print(s2)\n",
    "\n",
    "# 데이터 삭제\n",
    "print('\\n데이터 삭제')\n",
    "del s2['서울']\n",
    "print(s2)"
   ]
  },
  {
   "cell_type": "markdown",
   "metadata": {},
   "source": [
    "### 연습문제 1\n",
    "* 임의로 두 개의 시리즈 객체를 만든다.\n",
    "    * 첫 번째 시리즈는 리스트를 이용하고, \n",
    "    * 두 번째 시리즈는 딕셔너리를 이용한다.\n",
    "* 두 객체 모두 문자열 인덱스를 가져야 하고, 두 시리즈에 공통적으로 포함하지 않는 라벨이 있어야 한다."
   ]
  },
  {
   "cell_type": "code",
   "execution_count": 119,
   "metadata": {},
   "outputs": [
    {
     "name": "stdout",
     "output_type": "stream",
     "text": [
      "홍길동     90\n",
      "성춘향    100\n",
      "이몽룡     88\n",
      "dtype: int64 의자    100000\n",
      "책상      2000\n",
      "서랍      5000\n",
      "dtype: int64\n"
     ]
    }
   ],
   "source": [
    "# 연습문제\n",
    "\n",
    "series_list = pd.Series([90, 100, 88], index=['홍길동', '성춘향', '이몽룡'])\n",
    "series_dict = pd.Series({'의자':100000, '책상':2000, '서랍':5000})\n",
    "\n",
    "\n",
    "print(series_list, series_dict)"
   ]
  },
  {
   "cell_type": "markdown",
   "metadata": {},
   "source": [
    "## 데이터프레임(DataFrame)\n",
    "* 2차원 행렬 데이터에 인덱스를 붙인 것으로, 행과 열로 만들어지는 2차원 배열 구조를 가진다.\n",
    "* R의 데이터프레임에서 유래됨.\n",
    "* 데이터프레임의 열은 각각 Series 객체로 이루어져 있다.\n",
    "* `DataFrame()`를 사용하여 데이터프레임을 생성할 수 있다.\n",
    "\n",
    "### 1. 데이터 프레임 만들기\n",
    "* 위의 Series로 만드는 방법과 유사\n"
   ]
  },
  {
   "cell_type": "code",
   "execution_count": 120,
   "metadata": {},
   "outputs": [
    {
     "data": {
      "text/html": [
       "<div>\n",
       "<style scoped>\n",
       "    .dataframe tbody tr th:only-of-type {\n",
       "        vertical-align: middle;\n",
       "    }\n",
       "\n",
       "    .dataframe tbody tr th {\n",
       "        vertical-align: top;\n",
       "    }\n",
       "\n",
       "    .dataframe thead th {\n",
       "        text-align: right;\n",
       "    }\n",
       "</style>\n",
       "<table border=\"1\" class=\"dataframe\">\n",
       "  <thead>\n",
       "    <tr style=\"text-align: right;\">\n",
       "      <th></th>\n",
       "      <th>0</th>\n",
       "    </tr>\n",
       "  </thead>\n",
       "  <tbody>\n",
       "    <tr>\n",
       "      <th>0</th>\n",
       "      <td>a</td>\n",
       "    </tr>\n",
       "    <tr>\n",
       "      <th>1</th>\n",
       "      <td>b</td>\n",
       "    </tr>\n",
       "    <tr>\n",
       "      <th>2</th>\n",
       "      <td>c</td>\n",
       "    </tr>\n",
       "  </tbody>\n",
       "</table>\n",
       "</div>"
      ],
      "text/plain": [
       "   0\n",
       "0  a\n",
       "1  b\n",
       "2  c"
      ]
     },
     "metadata": {},
     "output_type": "display_data"
    },
    {
     "data": {
      "text/html": [
       "<div>\n",
       "<style scoped>\n",
       "    .dataframe tbody tr th:only-of-type {\n",
       "        vertical-align: middle;\n",
       "    }\n",
       "\n",
       "    .dataframe tbody tr th {\n",
       "        vertical-align: top;\n",
       "    }\n",
       "\n",
       "    .dataframe thead th {\n",
       "        text-align: right;\n",
       "    }\n",
       "</style>\n",
       "<table border=\"1\" class=\"dataframe\">\n",
       "  <thead>\n",
       "    <tr style=\"text-align: right;\">\n",
       "      <th></th>\n",
       "      <th>0</th>\n",
       "      <th>1</th>\n",
       "      <th>2</th>\n",
       "    </tr>\n",
       "  </thead>\n",
       "  <tbody>\n",
       "    <tr>\n",
       "      <th>0</th>\n",
       "      <td>a</td>\n",
       "      <td>b</td>\n",
       "      <td>c</td>\n",
       "    </tr>\n",
       "    <tr>\n",
       "      <th>1</th>\n",
       "      <td>a</td>\n",
       "      <td>a</td>\n",
       "      <td>g</td>\n",
       "    </tr>\n",
       "    <tr>\n",
       "      <th>2</th>\n",
       "      <td>a</td>\n",
       "      <td>i</td>\n",
       "      <td>j</td>\n",
       "    </tr>\n",
       "  </tbody>\n",
       "</table>\n",
       "</div>"
      ],
      "text/plain": [
       "   0  1  2\n",
       "0  a  b  c\n",
       "1  a  a  g\n",
       "2  a  i  j"
      ]
     },
     "metadata": {},
     "output_type": "display_data"
    },
    {
     "data": {
      "text/html": [
       "<div>\n",
       "<style scoped>\n",
       "    .dataframe tbody tr th:only-of-type {\n",
       "        vertical-align: middle;\n",
       "    }\n",
       "\n",
       "    .dataframe tbody tr th {\n",
       "        vertical-align: top;\n",
       "    }\n",
       "\n",
       "    .dataframe thead th {\n",
       "        text-align: right;\n",
       "    }\n",
       "</style>\n",
       "<table border=\"1\" class=\"dataframe\">\n",
       "  <thead>\n",
       "    <tr style=\"text-align: right;\">\n",
       "      <th></th>\n",
       "      <th>A</th>\n",
       "      <th>B</th>\n",
       "      <th>C</th>\n",
       "    </tr>\n",
       "  </thead>\n",
       "  <tbody>\n",
       "    <tr>\n",
       "      <th>0</th>\n",
       "      <td>a</td>\n",
       "      <td>a</td>\n",
       "      <td>a</td>\n",
       "    </tr>\n",
       "    <tr>\n",
       "      <th>1</th>\n",
       "      <td>b</td>\n",
       "      <td>a</td>\n",
       "      <td>i</td>\n",
       "    </tr>\n",
       "    <tr>\n",
       "      <th>2</th>\n",
       "      <td>c</td>\n",
       "      <td>g</td>\n",
       "      <td>j</td>\n",
       "    </tr>\n",
       "  </tbody>\n",
       "</table>\n",
       "</div>"
      ],
      "text/plain": [
       "   A  B  C\n",
       "0  a  a  a\n",
       "1  b  a  i\n",
       "2  c  g  j"
      ]
     },
     "metadata": {},
     "output_type": "display_data"
    }
   ],
   "source": [
    "# 1)-1 리스트로 데이터프레임 만들기\n",
    "df = pd.DataFrame(['a', 'b', 'c'])\n",
    "display(df)\n",
    "\n",
    "# 1)-2 리스트로 데이터프레임 만들기\n",
    "# df는 행, 열이름이 있어야 하기 때문에, 설정하지 않으면 자동으로 생성된다.\n",
    "df = pd.DataFrame([['a', 'b', 'c'], ['a', 'a', 'g'], ['a', 'i', 'j']])\n",
    "display(df)\n",
    "\n",
    "# 1)-3 열인덱스와 행인덱스를 직접 설정해서 df 생성 - dict를 사용\n",
    "df = pd.DataFrame({'A' : ['a', 'b', 'c'], \n",
    "                   'B' : ['a', 'a', 'g'], \n",
    "                   'C' : ['a', 'i', 'j']}, index=[0, 1, 2])\n",
    "display(df)"
   ]
  }
 ],
 "metadata": {
  "kernelspec": {
   "display_name": "Python 3",
   "language": "python",
   "name": "python3"
  },
  "language_info": {
   "codemirror_mode": {
    "name": "ipython",
    "version": 3
   },
   "file_extension": ".py",
   "mimetype": "text/x-python",
   "name": "python",
   "nbconvert_exporter": "python",
   "pygments_lexer": "ipython3",
   "version": "3.7.9"
  }
 },
 "nbformat": 4,
 "nbformat_minor": 4
}
